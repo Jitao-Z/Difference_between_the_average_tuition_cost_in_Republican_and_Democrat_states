{
 "cells": [
  {
   "cell_type": "code",
   "execution_count": null,
   "id": "ce99cac4-a63d-45ee-930a-3899d9efe94c",
   "metadata": {},
   "outputs": [],
   "source": [
    "data <- read.csv(\"\")"
   ]
  }
 ],
 "metadata": {
  "kernelspec": {
   "display_name": "R",
   "language": "R",
   "name": "ir"
  },
  "language_info": {
   "codemirror_mode": "r",
   "file_extension": ".r",
   "mimetype": "text/x-r-source",
   "name": "R",
   "pygments_lexer": "r",
   "version": "4.1.3"
  }
 },
 "nbformat": 4,
 "nbformat_minor": 5
}
