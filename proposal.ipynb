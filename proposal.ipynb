{
 "cells": [
  {
   "cell_type": "markdown",
   "id": "faf8750a-851d-4eb3-9282-198829610785",
   "metadata": {},
   "source": [
    "# __Cost of Education in Republican vs Democrat leaning US States__\n",
    "\n",
    "### Group 15: Alice Le, Jitao Zhang, Lincoln Lee, Yitong Gong"
   ]
  },
  {
   "cell_type": "markdown",
   "id": "b6942090-3628-4bf0-9852-939cf5067006",
   "metadata": {},
   "source": [
    "<center><img src=\"https://bpr.berkeley.edu/wp-content/uploads/2020/02/College-Debt-Essay-Cover-Photo-scaled.jpg\" width = 400></center>"
   ]
  },
  {
   "cell_type": "markdown",
   "id": "ab97aa65-b26f-4c65-8ddb-e701c70f30e2",
   "metadata": {},
   "source": [
    "### __1. Introduction__\n",
    "\n",
    "Post-secondary education is an important and often necessary step in the desired career paths of many students in the USA. The cost to attend, however, is often a prohibiting factor. With fair variance in the cost of attendance between schools in different states, it's fairly common to see students move across the country to attend school where it is more affordable. As a result, tuition costs has long been a point of contention in the US political arena, and a central talking point in presidential elections. But for all of the talking and debating that occurs in TV and during campaigns, are schools in Democrat or Republican leaning areas actually cheaper or more expensive to attend?\n",
    "\n",
    "In other words, we are interested in **assessing whether there is a statistically significant difference between the average tuition cost in Republican-leaning states and Democrat-leaning states.**\n",
    "\n",
    "We will investigate this using hypothesis testing on the difference of two population means, and also investigate the standard deviation of the difference in means to produce a confidence interval."
   ]
  },
  {
   "cell_type": "markdown",
   "id": "c291822c-800d-499e-9328-09c90a53db2a",
   "metadata": {
    "tags": []
   },
   "source": [
    "### __2. Preliminary Results__\n",
    "Let's do a simple, preliminary investigation of the tuition cost means in republican vs democrat leaning states. We'll import the necessary libraries and the dataset first. We are using an open-source online dataset provided by Kaggle.com that contains information on each US state and their tuition costs across multiple years."
   ]
  },
  {
   "cell_type": "code",
   "execution_count": 18,
   "id": "ce99cac4-a63d-45ee-930a-3899d9efe94c",
   "metadata": {},
   "outputs": [
    {
     "name": "stderr",
     "output_type": "stream",
     "text": [
      "\u001b[1mRows: \u001b[22m\u001b[34m3548\u001b[39m \u001b[1mColumns: \u001b[22m\u001b[34m6\u001b[39m\n",
      "\u001b[36m──\u001b[39m \u001b[1mColumn specification\u001b[22m \u001b[36m────────────────────────────────────────────────────────\u001b[39m\n",
      "\u001b[1mDelimiter:\u001b[22m \",\"\n",
      "\u001b[31mchr\u001b[39m (4): State, Type, Length, Expense\n",
      "\u001b[32mdbl\u001b[39m (2): Year, Value\n",
      "\n",
      "\u001b[36mℹ\u001b[39m Use `spec()` to retrieve the full column specification for this data.\n",
      "\u001b[36mℹ\u001b[39m Specify the column types or set `show_col_types = FALSE` to quiet this message.\n"
     ]
    },
    {
     "data": {
      "text/html": [
       "<table class=\"dataframe\">\n",
       "<caption>A tibble: 6 × 6</caption>\n",
       "<thead>\n",
       "\t<tr><th scope=col>Year</th><th scope=col>State</th><th scope=col>Type</th><th scope=col>Length</th><th scope=col>Expense</th><th scope=col>Value</th></tr>\n",
       "\t<tr><th scope=col>&lt;dbl&gt;</th><th scope=col>&lt;chr&gt;</th><th scope=col>&lt;chr&gt;</th><th scope=col>&lt;chr&gt;</th><th scope=col>&lt;chr&gt;</th><th scope=col>&lt;dbl&gt;</th></tr>\n",
       "</thead>\n",
       "<tbody>\n",
       "\t<tr><td>2013</td><td>Alabama</td><td>Private            </td><td>4-year</td><td>Fees/Tuition</td><td>13983</td></tr>\n",
       "\t<tr><td>2013</td><td>Alabama</td><td>Private            </td><td>4-year</td><td>Room/Board  </td><td> 8503</td></tr>\n",
       "\t<tr><td>2013</td><td>Alabama</td><td>Public In-State    </td><td>2-year</td><td>Fees/Tuition</td><td> 4048</td></tr>\n",
       "\t<tr><td>2013</td><td>Alabama</td><td>Public In-State    </td><td>4-year</td><td>Fees/Tuition</td><td> 8073</td></tr>\n",
       "\t<tr><td>2013</td><td>Alabama</td><td>Public In-State    </td><td>4-year</td><td>Room/Board  </td><td> 8473</td></tr>\n",
       "\t<tr><td>2013</td><td>Alabama</td><td>Public Out-of-State</td><td>2-year</td><td>Fees/Tuition</td><td> 7736</td></tr>\n",
       "</tbody>\n",
       "</table>\n"
      ],
      "text/latex": [
       "A tibble: 6 × 6\n",
       "\\begin{tabular}{llllll}\n",
       " Year & State & Type & Length & Expense & Value\\\\\n",
       " <dbl> & <chr> & <chr> & <chr> & <chr> & <dbl>\\\\\n",
       "\\hline\n",
       "\t 2013 & Alabama & Private             & 4-year & Fees/Tuition & 13983\\\\\n",
       "\t 2013 & Alabama & Private             & 4-year & Room/Board   &  8503\\\\\n",
       "\t 2013 & Alabama & Public In-State     & 2-year & Fees/Tuition &  4048\\\\\n",
       "\t 2013 & Alabama & Public In-State     & 4-year & Fees/Tuition &  8073\\\\\n",
       "\t 2013 & Alabama & Public In-State     & 4-year & Room/Board   &  8473\\\\\n",
       "\t 2013 & Alabama & Public Out-of-State & 2-year & Fees/Tuition &  7736\\\\\n",
       "\\end{tabular}\n"
      ],
      "text/markdown": [
       "\n",
       "A tibble: 6 × 6\n",
       "\n",
       "| Year &lt;dbl&gt; | State &lt;chr&gt; | Type &lt;chr&gt; | Length &lt;chr&gt; | Expense &lt;chr&gt; | Value &lt;dbl&gt; |\n",
       "|---|---|---|---|---|---|\n",
       "| 2013 | Alabama | Private             | 4-year | Fees/Tuition | 13983 |\n",
       "| 2013 | Alabama | Private             | 4-year | Room/Board   |  8503 |\n",
       "| 2013 | Alabama | Public In-State     | 2-year | Fees/Tuition |  4048 |\n",
       "| 2013 | Alabama | Public In-State     | 4-year | Fees/Tuition |  8073 |\n",
       "| 2013 | Alabama | Public In-State     | 4-year | Room/Board   |  8473 |\n",
       "| 2013 | Alabama | Public Out-of-State | 2-year | Fees/Tuition |  7736 |\n",
       "\n"
      ],
      "text/plain": [
       "  Year State   Type                Length Expense      Value\n",
       "1 2013 Alabama Private             4-year Fees/Tuition 13983\n",
       "2 2013 Alabama Private             4-year Room/Board    8503\n",
       "3 2013 Alabama Public In-State     2-year Fees/Tuition  4048\n",
       "4 2013 Alabama Public In-State     4-year Fees/Tuition  8073\n",
       "5 2013 Alabama Public In-State     4-year Room/Board    8473\n",
       "6 2013 Alabama Public Out-of-State 2-year Fees/Tuition  7736"
      ]
     },
     "metadata": {},
     "output_type": "display_data"
    }
   ],
   "source": [
    "# All needed libraries:\n",
    "library(tidyverse)\n",
    "library(broom)\n",
    "library(repr)\n",
    "library(digest)\n",
    "library(infer)\n",
    "library(gridExtra)\n",
    "\n",
    "# General Graphs' setting:\n",
    "options(repr.plot.width = 10, repr.plot.height = 6)\n",
    "\n",
    "# Import online dataset\n",
    "original_dataset <- read_csv(\"https://raw.githubusercontent.com/Jitao-Z/dataset/main/nces330_20.csv\")\n",
    "head(original_dataset)"
   ]
  },
  {
   "cell_type": "markdown",
   "id": "2ab741f3-c46c-4118-968d-867417e11e6a",
   "metadata": {},
   "source": [
    "__2.1 Cleaning the data__\n",
    "\n",
    "The dataset also contains information regarding miscellaneous student costs such as books and living costs. Further, as we are using the 2020 presidential election as a gauge for the political leaning of each state, we want to rely on the data from 2020 only to avoid including data from when the political landscape may have been different.\n",
    "\n",
    "Let's filter for just the data we're interested in: student tuition in 2020."
   ]
  },
  {
   "cell_type": "code",
   "execution_count": 19,
   "id": "c1f8df53-a48a-4140-9724-7ec501de2f17",
   "metadata": {},
   "outputs": [],
   "source": [
    "set.seed(2356)\n",
    "\n",
    "# filters out all the irrelevant columns\n",
    "tuition <- original_dataset |>\n",
    "    filter(!is.na(Value),\n",
    "           Expense == \"Fees/Tuition\",\n",
    "           Year == 2020)"
   ]
  },
  {
   "cell_type": "markdown",
   "id": "02bef4bd-09de-407e-8c53-4b8a9f85bf59",
   "metadata": {},
   "source": [
    "Now, we want to group the data by state to find the average cost of tuition in that state. Then, we want to append a column to the data correlating each state with their presidential election result (source below)."
   ]
  },
  {
   "cell_type": "code",
   "execution_count": 20,
   "id": "48bcd7b4-c97b-4217-9ac7-c70485875954",
   "metadata": {},
   "outputs": [
    {
     "data": {
      "text/html": [
       "<table class=\"dataframe\">\n",
       "<caption>A tibble: 6 × 3</caption>\n",
       "<thead>\n",
       "\t<tr><th scope=col>State</th><th scope=col>mean_tuition_fees</th><th scope=col>political_leaning</th></tr>\n",
       "\t<tr><th scope=col>&lt;chr&gt;</th><th scope=col>&lt;dbl&gt;</th><th scope=col>&lt;fct&gt;</th></tr>\n",
       "</thead>\n",
       "<tbody>\n",
       "\t<tr><td>Alabama   </td><td>13628.80</td><td>repub</td></tr>\n",
       "\t<tr><td>Alaska    </td><td>18248.67</td><td>repub</td></tr>\n",
       "\t<tr><td>Arizona   </td><td>12235.40</td><td>demo </td></tr>\n",
       "\t<tr><td>Arkansas  </td><td>12422.00</td><td>repub</td></tr>\n",
       "\t<tr><td>California</td><td>17368.40</td><td>demo </td></tr>\n",
       "\t<tr><td>Colorado  </td><td>14833.20</td><td>demo </td></tr>\n",
       "</tbody>\n",
       "</table>\n"
      ],
      "text/latex": [
       "A tibble: 6 × 3\n",
       "\\begin{tabular}{lll}\n",
       " State & mean\\_tuition\\_fees & political\\_leaning\\\\\n",
       " <chr> & <dbl> & <fct>\\\\\n",
       "\\hline\n",
       "\t Alabama    & 13628.80 & repub\\\\\n",
       "\t Alaska     & 18248.67 & repub\\\\\n",
       "\t Arizona    & 12235.40 & demo \\\\\n",
       "\t Arkansas   & 12422.00 & repub\\\\\n",
       "\t California & 17368.40 & demo \\\\\n",
       "\t Colorado   & 14833.20 & demo \\\\\n",
       "\\end{tabular}\n"
      ],
      "text/markdown": [
       "\n",
       "A tibble: 6 × 3\n",
       "\n",
       "| State &lt;chr&gt; | mean_tuition_fees &lt;dbl&gt; | political_leaning &lt;fct&gt; |\n",
       "|---|---|---|\n",
       "| Alabama    | 13628.80 | repub |\n",
       "| Alaska     | 18248.67 | repub |\n",
       "| Arizona    | 12235.40 | demo  |\n",
       "| Arkansas   | 12422.00 | repub |\n",
       "| California | 17368.40 | demo  |\n",
       "| Colorado   | 14833.20 | demo  |\n",
       "\n"
      ],
      "text/plain": [
       "  State      mean_tuition_fees political_leaning\n",
       "1 Alabama    13628.80          repub            \n",
       "2 Alaska     18248.67          repub            \n",
       "3 Arizona    12235.40          demo             \n",
       "4 Arkansas   12422.00          repub            \n",
       "5 California 17368.40          demo             \n",
       "6 Colorado   14833.20          demo             "
      ]
     },
     "metadata": {},
     "output_type": "display_data"
    },
    {
     "data": {
      "text/html": [
       "23"
      ],
      "text/latex": [
       "23"
      ],
      "text/markdown": [
       "23"
      ],
      "text/plain": [
       "[1] 23"
      ]
     },
     "metadata": {},
     "output_type": "display_data"
    },
    {
     "data": {
      "text/html": [
       "28"
      ],
      "text/latex": [
       "28"
      ],
      "text/markdown": [
       "28"
      ],
      "text/plain": [
       "[1] 28"
      ]
     },
     "metadata": {},
     "output_type": "display_data"
    }
   ],
   "source": [
    "# calculates the mean tuition fee for each state in 2020\n",
    "# mean_tuition_fee represents the average tuition fee for each state in 2020\n",
    "tuition <- tuition |>\n",
    "    group_by(State) |>\n",
    "    summarize(mean_tuition_fees = mean(Value))\n",
    "\n",
    "\n",
    "# adds the third column of political leaning\n",
    "# note that we are using the party affiliation of each state in the 2020 presidential election \n",
    "# to represent their political leanings \n",
    "# demo stands for democrat; repub stands for republican\n",
    "tuition <- tuition |>\n",
    "    mutate(political_leaning = as.factor(ifelse(grepl(\"Arizona|California|Colorado|Connecticut|Delaware|Georgia|Hawaii\n",
    "                                                |Illinois|Maine|Maryland|Massachusetts|Michigan|Minnesota\n",
    "                                                |Nevada|New Hampshire|New Jersey|New Mexico|New York|Oregon\n",
    "                                                |Pennsylvania|Rhode Island|Vermont|Virginia|Washington|Wisconsin\", State), \n",
    "                                            \"demo\", \"repub\")))\n",
    "\n",
    "head(tuition)\n",
    "nrow(tuition |> filter(political_leaning == \"demo\"))\n",
    "nrow(tuition |> filter(political_leaning == \"repub\"))"
   ]
  },
  {
   "cell_type": "markdown",
   "id": "6255f116-5473-4d2c-a0ad-3e0b42ac52d3",
   "metadata": {},
   "source": [
    "__2.2 Visualization of the initial data__\n",
    "\n",
    "Let's use two boxplots side-by-side to get a general idea of the average tuition fees of schools in democrat and republican-leaning states in 2020.\n",
    "\n",
    "Note that even though the boxplot **will not** reflect the true population parameters, it could still give us some insights into what our dataset looks like and facilitate some first guesses in the difference of mean tuition fees between democrat and republican states."
   ]
  },
  {
   "cell_type": "code",
   "execution_count": 1,
   "id": "a3cb97e8-52c4-42be-9165-0229fb4495e3",
   "metadata": {},
   "outputs": [
    {
     "ename": "ERROR",
     "evalue": "Error in ggplot(tuition, mapping = aes(x = political_leaning, y = mean_tuition_fees, : could not find function \"ggplot\"\n",
     "output_type": "error",
     "traceback": [
      "Error in ggplot(tuition, mapping = aes(x = political_leaning, y = mean_tuition_fees, : could not find function \"ggplot\"\nTraceback:\n"
     ]
    }
   ],
   "source": [
    "tuition_boxplots <- tuition |>\n",
    "    ggplot(mapping = aes(x = political_leaning, y = mean_tuition_fees, fill = political_leaning)) +\n",
    "    geom_boxplot() +\n",
    "    ggtitle(\"Boxplots for tuition fees of democrat and republican states in 2020\") +\n",
    "    labs(x = \"Political leaning according to 2020 election\", y = \"Average tuition fee (USD)\", fill = \"Political leaning\") +\n",
    "    theme_bw() +\n",
    "    theme(text = element_text(size = 15))\n",
    "\n",
    "tuition_boxplots"
   ]
  },
  {
   "cell_type": "markdown",
   "id": "6fa144e2-f075-40a4-b6c7-afa4ae35b065",
   "metadata": {},
   "source": [
    "__2.3 Computation of estimate of the parameter__\n",
    "\n",
    "Let's now take a closer look at the **difference** of these two means, starting with some variable definitions.\n",
    "\n",
    "- $\\mu_1$: population mean of tuition fees of democrat states in 2020\n",
    "- $\\mu_2$: population mean of tuition fees of republican states in 2020\n",
    "\n",
    "- $\\bar{x_1}$: sample mean of tuition fees of democrat states in 2020\n",
    "- $\\bar{x_2}$: sample mean of tuition fees of republican states in 2020\n",
    "\n",
    "The difference of the two sample means, $\\bar{x_1} - \\bar{x_2}$, is used as our estimate to approximate $\\mu_1 - \\mu_2$, our parameter of interest."
   ]
  },
  {
   "cell_type": "code",
   "execution_count": 22,
   "id": "c344fda0-4f6f-4ae8-b96b-37e2cecb2529",
   "metadata": {
    "tags": []
   },
   "outputs": [
    {
     "data": {
      "text/html": [
       "<table class=\"dataframe\">\n",
       "<caption>A data.frame: 1 × 3</caption>\n",
       "<thead>\n",
       "\t<tr><th scope=col>x1_bar</th><th scope=col>x2_bar</th><th scope=col>diff</th></tr>\n",
       "\t<tr><th scope=col>&lt;dbl&gt;</th><th scope=col>&lt;dbl&gt;</th><th scope=col>&lt;dbl&gt;</th></tr>\n",
       "</thead>\n",
       "<tbody>\n",
       "\t<tr><td>17996.75</td><td>14564.99</td><td>3431.759</td></tr>\n",
       "</tbody>\n",
       "</table>\n"
      ],
      "text/latex": [
       "A data.frame: 1 × 3\n",
       "\\begin{tabular}{lll}\n",
       " x1\\_bar & x2\\_bar & diff\\\\\n",
       " <dbl> & <dbl> & <dbl>\\\\\n",
       "\\hline\n",
       "\t 17996.75 & 14564.99 & 3431.759\\\\\n",
       "\\end{tabular}\n"
      ],
      "text/markdown": [
       "\n",
       "A data.frame: 1 × 3\n",
       "\n",
       "| x1_bar &lt;dbl&gt; | x2_bar &lt;dbl&gt; | diff &lt;dbl&gt; |\n",
       "|---|---|---|\n",
       "| 17996.75 | 14564.99 | 3431.759 |\n",
       "\n"
      ],
      "text/plain": [
       "  x1_bar   x2_bar   diff    \n",
       "1 17996.75 14564.99 3431.759"
      ]
     },
     "metadata": {},
     "output_type": "display_data"
    }
   ],
   "source": [
    "summary <- tuition |>\n",
    "    group_by(political_leaning) |>\n",
    "    summarize(mean = mean(mean_tuition_fees))\n",
    "\n",
    "# diff represents x1_bar - x2_bar\n",
    "estimates <- data.frame(x1_bar = summary$mean[1],\n",
    "                        x2_bar = summary$mean[2]) |>\n",
    "    mutate(diff = x1_bar - x2_bar)\n",
    "\n",
    "estimates"
   ]
  },
  {
   "cell_type": "markdown",
   "id": "8b2d57b7-99fe-441e-9d29-4ae325110e05",
   "metadata": {},
   "source": [
    "Our initial rough guess says the difference between the two samples means is **3431.759 USD**, suggesting that it is that much cheaper to attend school in a Republican-leaning state (though again, we will need to conduct a more thorough analysis for a concrete estimate)"
   ]
  },
  {
   "cell_type": "markdown",
   "id": "eeab6c1c-50dc-4297-95bd-9941a7014631",
   "metadata": {},
   "source": [
    "### __3. Methods: Plan__"
   ]
  },
  {
   "cell_type": "markdown",
   "id": "b0f80ad9-4263-4e17-9b02-c5e3e4dfcfc0",
   "metadata": {
    "tags": []
   },
   "source": [
    "__3.1 Is this preliminary exploration good enough?__\n",
    "\n",
    "This report is based on a dataset of \"Average cost of the undergraduate student by state USA\" with observations ranging from 2013 to 2021. The exploratory data analysis filtered out the missing values from the dataset and categorized each state according to its political status. For our initial exploration, we only provided a simple comparison of two sample means, one from each group. It resulted in the finding that the mean tuition in Republican states is lower by 3431.759 USD.\n",
    "\n",
    "\n",
    "_3.1.1 The Good Things_\n",
    "\n",
    "The preliminary result is alright for getting a rough glimpse into what the population means look like, and what their difference is. Albeit simple, the sample size (number of schools surveyed) is 246, which is a decent sample size to capture a fair proportion of the student population in the US. Given the sample size, it is unlikely that the sample means would have produced an outlandishly incorrect value. Further, the data is from a reliable source; its original source is the US Department of Education and the dataset was updated just a month ago.\n",
    "\n",
    "\n",
    "_3.1.2 Why this is not enough, and what to do next_\n",
    "\n",
    "However, more is needed to conclude that the population means are in fact different since the difference in mean values between the two point estimates could simply be the result of sample variation.\n",
    "\n",
    "For a more thorough analysis, we will use inferential statistics to conduct a hypothesis test to determine whether there is a statistically significant difference between the mean tuition of Democratic States and the average tuition of Republican States. This will be a two-tailed hypothesis test, where the null hypothesis is that the difference in population means equals zero, and the alternative hypothesis that it is not zero. We will use bootstrapping over the theoretical methods as a way to avoid making any assumptions about the distribution of the tuition costs in each population.\n",
    "\n",
    "Furthermore, we will calculate a confidence interval to estimate a range between which the difference in the means lies. This will also be completed using bootstrapping, wherein a bootstrap distribution is used to find the standard error, and to generate an interval.\n"
   ]
  },
  {
   "cell_type": "markdown",
   "id": "7c10e59f-ebd8-4cb4-923b-175c506a69fb",
   "metadata": {},
   "source": [
    "__3.2 Expected Findings__\n",
    "\n",
    "The political landscape in recent years is very polarised, and the issue of education has been a dividing issue between the two parties for a long time. Further, the preliminary results state a large gap between the tuition fees of the two groups. We expect to find a statistically significant difference between the average tuition of Democratic and Republican states. We also expect to find a confidence interval that describes that Republican costs are cheaper with at least a 90% confidence level."
   ]
  },
  {
   "cell_type": "markdown",
   "id": "6ae8c8f3-5c6f-4177-b707-b4df2fc68dd8",
   "metadata": {},
   "source": [
    "__3.3 Implications__\n",
    "\n",
    "There are many stakeholders that may be interested in the cost of tuition. Finding a statistically significant difference in the population means would be meaningful to skeptical politicians, journalists or citizens that may be concerned about whether all the discussion in debates translates to real action and impact. This may motivate activists to re-evaluate their strategies, politicians to assess more impactful programs/policies, and corporations to increase lobbying efforts.\n",
    "\n",
    "A confidence interval describing the difference in tuition between Republican and Democrat states may better inform incoming students and their loved ones, who are concerned about finding education within their budget. It may also reveal that the efforts of some parties may be less/more effective than expected."
   ]
  },
  {
   "cell_type": "markdown",
   "id": "46cf5b0c-90b9-41c7-be63-3c345ef4b3ca",
   "metadata": {},
   "source": [
    "__3.4 Future Questions__\n",
    "\n",
    "The findings of this study may contribute to identifying the true population means of the two parties' tuition costs, which may be useful for future statistical analyses. Namely, some further explorations may investigate the granular correlation between _how_ Republican or Democrat-leaning a state is and what their tuition costs are; perhaps through a scatterplot and a correlation coefficient. Another related study may assess the correlation between public opinion and tuition costs, as a way of measuring the impact that citizens have on their tuition costs."
   ]
  },
  {
   "cell_type": "markdown",
   "id": "ab1cfaf2-dfd8-4b3b-9ce4-202771a685b3",
   "metadata": {},
   "source": [
    "### __4. References__"
   ]
  },
  {
   "cell_type": "markdown",
   "id": "7e32d35b-3634-4d53-a2f4-a4cdbad99239",
   "metadata": {},
   "source": [
    "Chirumamilla, B. (2023, February 9). Average cost of undergraduate student by State USA. Kaggle. Retrieved March 18, 2023, from https://www.kaggle.com/datasets/bhargavchirumamilla/average-cost-of-undergraduate-student-by-state-usa\n",
    "\n",
    "College Debt Essay Cover Photo. (n.d.). Berkeley Political Review. Retrieved March 18, 2023, from https://bpr.berkeley.edu/wp-content/uploads/2020/02/College-Debt-Essay-Cover-Photo-scaled.jpg.\n",
    "\n",
    "Freedberg, L. (2020, June 16). Democrats and Republicans in Congress spar over need for more Federal Education Aid. EdSource. Retrieved March 18, 2023, from https://edsource.org/2020/democrats-and-republicans-in-congress-spar-over-need-for-more-federal-education-aid/633765 \n",
    "\n",
    "Hartig, H. (2021, August 13). Democrats overwhelmingly favor free college tuition, while Republicans are divided by age, Education. Pew Research Center. Retrieved March 18, 2023, from https://www.pewresearch.org/fact-tank/2021/08/11/democrats-overwhelmingly-favor-free-college-tuition-while-republicans-are-divided-by-age-education/ \n",
    "\n",
    "The New York Times. (2020, November 3). Presidential election results: Biden wins. The New York Times. Retrieved March 18, 2023, from https://www.nytimes.com/interactive/2020/11/03/us/elections/results-president.html "
   ]
  }
 ],
 "metadata": {
  "kernelspec": {
   "display_name": "R",
   "language": "R",
   "name": "ir"
  },
  "language_info": {
   "codemirror_mode": "r",
   "file_extension": ".r",
   "mimetype": "text/x-r-source",
   "name": "R",
   "pygments_lexer": "r",
   "version": "4.1.3"
  }
 },
 "nbformat": 4,
 "nbformat_minor": 5
}
