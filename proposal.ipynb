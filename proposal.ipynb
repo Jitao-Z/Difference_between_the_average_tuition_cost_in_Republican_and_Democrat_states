{
 "cells": [
  {
   "cell_type": "markdown",
   "id": "faf8750a-851d-4eb3-9282-198829610785",
   "metadata": {},
   "source": [
    "## Project Name:\n",
    "\n",
    "**Group 15: Alice Le, Jitao Zhang, Lincoln Lee, Yitong Gong**"
   ]
  },
  {
   "cell_type": "code",
   "execution_count": 1,
   "id": "ce99cac4-a63d-45ee-930a-3899d9efe94c",
   "metadata": {},
   "outputs": [
    {
     "name": "stderr",
     "output_type": "stream",
     "text": [
      "── \u001b[1mAttaching packages\u001b[22m ─────────────────────────────────────── tidyverse 1.3.2 ──\n",
      "\u001b[32m✔\u001b[39m \u001b[34mggplot2\u001b[39m 3.3.6      \u001b[32m✔\u001b[39m \u001b[34mpurrr  \u001b[39m 0.3.4 \n",
      "\u001b[32m✔\u001b[39m \u001b[34mtibble \u001b[39m 3.1.8      \u001b[32m✔\u001b[39m \u001b[34mdplyr  \u001b[39m 1.0.10\n",
      "\u001b[32m✔\u001b[39m \u001b[34mtidyr  \u001b[39m 1.2.1      \u001b[32m✔\u001b[39m \u001b[34mstringr\u001b[39m 1.4.1 \n",
      "\u001b[32m✔\u001b[39m \u001b[34mreadr  \u001b[39m 2.1.2      \u001b[32m✔\u001b[39m \u001b[34mforcats\u001b[39m 0.5.2 \n",
      "── \u001b[1mConflicts\u001b[22m ────────────────────────────────────────── tidyverse_conflicts() ──\n",
      "\u001b[31m✖\u001b[39m \u001b[34mdplyr\u001b[39m::\u001b[32mfilter()\u001b[39m masks \u001b[34mstats\u001b[39m::filter()\n",
      "\u001b[31m✖\u001b[39m \u001b[34mdplyr\u001b[39m::\u001b[32mlag()\u001b[39m    masks \u001b[34mstats\u001b[39m::lag()\n",
      "\n",
      "Attaching package: ‘gridExtra’\n",
      "\n",
      "\n",
      "The following object is masked from ‘package:dplyr’:\n",
      "\n",
      "    combine\n",
      "\n",
      "\n"
     ]
    }
   ],
   "source": [
    "# All needed libraries:\n",
    "library(tidyverse)\n",
    "library(broom)\n",
    "library(repr)\n",
    "library(digest)\n",
    "library(infer)\n",
    "library(gridExtra)\n",
    "\n",
    "# General Graphs' setting:\n",
    "options(repr.plot.width = 10, repr.plot.height = 6)"
   ]
  },
  {
   "cell_type": "markdown",
   "id": "c291822c-800d-499e-9328-09c90a53db2a",
   "metadata": {},
   "source": [
    "#### __Preliminary Results__"
   ]
  },
  {
   "cell_type": "code",
   "execution_count": 2,
   "id": "b81f757a-e77b-456c-9da5-ccd7d0cee219",
   "metadata": {},
   "outputs": [
    {
     "name": "stderr",
     "output_type": "stream",
     "text": [
      "\u001b[1mRows: \u001b[22m\u001b[34m3548\u001b[39m \u001b[1mColumns: \u001b[22m\u001b[34m6\u001b[39m\n",
      "\u001b[36m──\u001b[39m \u001b[1mColumn specification\u001b[22m \u001b[36m────────────────────────────────────────────────────────\u001b[39m\n",
      "\u001b[1mDelimiter:\u001b[22m \",\"\n",
      "\u001b[31mchr\u001b[39m (4): State, Type, Length, Expense\n",
      "\u001b[32mdbl\u001b[39m (2): Year, Value\n",
      "\n",
      "\u001b[36mℹ\u001b[39m Use `spec()` to retrieve the full column specification for this data.\n",
      "\u001b[36mℹ\u001b[39m Specify the column types or set `show_col_types = FALSE` to quiet this message.\n"
     ]
    },
    {
     "data": {
      "text/html": [
       "<table class=\"dataframe\">\n",
       "<caption>A tibble: 6 × 6</caption>\n",
       "<thead>\n",
       "\t<tr><th scope=col>Year</th><th scope=col>State</th><th scope=col>Type</th><th scope=col>Length</th><th scope=col>Expense</th><th scope=col>Value</th></tr>\n",
       "\t<tr><th scope=col>&lt;dbl&gt;</th><th scope=col>&lt;chr&gt;</th><th scope=col>&lt;chr&gt;</th><th scope=col>&lt;chr&gt;</th><th scope=col>&lt;chr&gt;</th><th scope=col>&lt;dbl&gt;</th></tr>\n",
       "</thead>\n",
       "<tbody>\n",
       "\t<tr><td>2013</td><td>Alabama</td><td>Private            </td><td>4-year</td><td>Fees/Tuition</td><td>13983</td></tr>\n",
       "\t<tr><td>2013</td><td>Alabama</td><td>Private            </td><td>4-year</td><td>Room/Board  </td><td> 8503</td></tr>\n",
       "\t<tr><td>2013</td><td>Alabama</td><td>Public In-State    </td><td>2-year</td><td>Fees/Tuition</td><td> 4048</td></tr>\n",
       "\t<tr><td>2013</td><td>Alabama</td><td>Public In-State    </td><td>4-year</td><td>Fees/Tuition</td><td> 8073</td></tr>\n",
       "\t<tr><td>2013</td><td>Alabama</td><td>Public In-State    </td><td>4-year</td><td>Room/Board  </td><td> 8473</td></tr>\n",
       "\t<tr><td>2013</td><td>Alabama</td><td>Public Out-of-State</td><td>2-year</td><td>Fees/Tuition</td><td> 7736</td></tr>\n",
       "</tbody>\n",
       "</table>\n"
      ],
      "text/latex": [
       "A tibble: 6 × 6\n",
       "\\begin{tabular}{llllll}\n",
       " Year & State & Type & Length & Expense & Value\\\\\n",
       " <dbl> & <chr> & <chr> & <chr> & <chr> & <dbl>\\\\\n",
       "\\hline\n",
       "\t 2013 & Alabama & Private             & 4-year & Fees/Tuition & 13983\\\\\n",
       "\t 2013 & Alabama & Private             & 4-year & Room/Board   &  8503\\\\\n",
       "\t 2013 & Alabama & Public In-State     & 2-year & Fees/Tuition &  4048\\\\\n",
       "\t 2013 & Alabama & Public In-State     & 4-year & Fees/Tuition &  8073\\\\\n",
       "\t 2013 & Alabama & Public In-State     & 4-year & Room/Board   &  8473\\\\\n",
       "\t 2013 & Alabama & Public Out-of-State & 2-year & Fees/Tuition &  7736\\\\\n",
       "\\end{tabular}\n"
      ],
      "text/markdown": [
       "\n",
       "A tibble: 6 × 6\n",
       "\n",
       "| Year &lt;dbl&gt; | State &lt;chr&gt; | Type &lt;chr&gt; | Length &lt;chr&gt; | Expense &lt;chr&gt; | Value &lt;dbl&gt; |\n",
       "|---|---|---|---|---|---|\n",
       "| 2013 | Alabama | Private             | 4-year | Fees/Tuition | 13983 |\n",
       "| 2013 | Alabama | Private             | 4-year | Room/Board   |  8503 |\n",
       "| 2013 | Alabama | Public In-State     | 2-year | Fees/Tuition |  4048 |\n",
       "| 2013 | Alabama | Public In-State     | 4-year | Fees/Tuition |  8073 |\n",
       "| 2013 | Alabama | Public In-State     | 4-year | Room/Board   |  8473 |\n",
       "| 2013 | Alabama | Public Out-of-State | 2-year | Fees/Tuition |  7736 |\n",
       "\n"
      ],
      "text/plain": [
       "  Year State   Type                Length Expense      Value\n",
       "1 2013 Alabama Private             4-year Fees/Tuition 13983\n",
       "2 2013 Alabama Private             4-year Room/Board    8503\n",
       "3 2013 Alabama Public In-State     2-year Fees/Tuition  4048\n",
       "4 2013 Alabama Public In-State     4-year Fees/Tuition  8073\n",
       "5 2013 Alabama Public In-State     4-year Room/Board    8473\n",
       "6 2013 Alabama Public Out-of-State 2-year Fees/Tuition  7736"
      ]
     },
     "metadata": {},
     "output_type": "display_data"
    }
   ],
   "source": [
    "original_dataset <- read_csv(\"https://raw.githubusercontent.com/Jitao-Z/dataset/main/nces330_20.csv\")\n",
    "head(original_dataset)"
   ]
  },
  {
   "cell_type": "markdown",
   "id": "2ab741f3-c46c-4118-968d-867417e11e6a",
   "metadata": {},
   "source": [
    "__Cleaning the data__"
   ]
  },
  {
   "cell_type": "code",
   "execution_count": 25,
   "id": "c1f8df53-a48a-4140-9724-7ec501de2f17",
   "metadata": {},
   "outputs": [
    {
     "data": {
      "text/html": [
       "<table class=\"dataframe\">\n",
       "<caption>A tibble: 6 × 3</caption>\n",
       "<thead>\n",
       "\t<tr><th scope=col>State</th><th scope=col>mean_tuition_fee</th><th scope=col>political_leaning</th></tr>\n",
       "\t<tr><th scope=col>&lt;chr&gt;</th><th scope=col>&lt;dbl&gt;</th><th scope=col>&lt;chr&gt;</th></tr>\n",
       "</thead>\n",
       "<tbody>\n",
       "\t<tr><td>Alabama   </td><td>13628.80</td><td>repub</td></tr>\n",
       "\t<tr><td>Alaska    </td><td>18248.67</td><td>repub</td></tr>\n",
       "\t<tr><td>Arizona   </td><td>12235.40</td><td>demo </td></tr>\n",
       "\t<tr><td>Arkansas  </td><td>12422.00</td><td>repub</td></tr>\n",
       "\t<tr><td>California</td><td>17368.40</td><td>demo </td></tr>\n",
       "\t<tr><td>Colorado  </td><td>14833.20</td><td>demo </td></tr>\n",
       "</tbody>\n",
       "</table>\n"
      ],
      "text/latex": [
       "A tibble: 6 × 3\n",
       "\\begin{tabular}{lll}\n",
       " State & mean\\_tuition\\_fee & political\\_leaning\\\\\n",
       " <chr> & <dbl> & <chr>\\\\\n",
       "\\hline\n",
       "\t Alabama    & 13628.80 & repub\\\\\n",
       "\t Alaska     & 18248.67 & repub\\\\\n",
       "\t Arizona    & 12235.40 & demo \\\\\n",
       "\t Arkansas   & 12422.00 & repub\\\\\n",
       "\t California & 17368.40 & demo \\\\\n",
       "\t Colorado   & 14833.20 & demo \\\\\n",
       "\\end{tabular}\n"
      ],
      "text/markdown": [
       "\n",
       "A tibble: 6 × 3\n",
       "\n",
       "| State &lt;chr&gt; | mean_tuition_fee &lt;dbl&gt; | political_leaning &lt;chr&gt; |\n",
       "|---|---|---|\n",
       "| Alabama    | 13628.80 | repub |\n",
       "| Alaska     | 18248.67 | repub |\n",
       "| Arizona    | 12235.40 | demo  |\n",
       "| Arkansas   | 12422.00 | repub |\n",
       "| California | 17368.40 | demo  |\n",
       "| Colorado   | 14833.20 | demo  |\n",
       "\n"
      ],
      "text/plain": [
       "  State      mean_tuition_fee political_leaning\n",
       "1 Alabama    13628.80         repub            \n",
       "2 Alaska     18248.67         repub            \n",
       "3 Arizona    12235.40         demo             \n",
       "4 Arkansas   12422.00         repub            \n",
       "5 California 17368.40         demo             \n",
       "6 Colorado   14833.20         demo             "
      ]
     },
     "metadata": {},
     "output_type": "display_data"
    },
    {
     "data": {
      "text/html": [
       "23"
      ],
      "text/latex": [
       "23"
      ],
      "text/markdown": [
       "23"
      ],
      "text/plain": [
       "[1] 23"
      ]
     },
     "metadata": {},
     "output_type": "display_data"
    },
    {
     "data": {
      "text/html": [
       "28"
      ],
      "text/latex": [
       "28"
      ],
      "text/markdown": [
       "28"
      ],
      "text/plain": [
       "[1] 28"
      ]
     },
     "metadata": {},
     "output_type": "display_data"
    }
   ],
   "source": [
    "set.seed(2356)\n",
    "\n",
    "# filters out all the irrelevant columns\n",
    "tuition <- original_dataset |>\n",
    "    filter(!is.na(Value),\n",
    "           Expense == \"Fees/Tuition\",\n",
    "           Year == 2020)\n",
    "\n",
    "\n",
    "# calculates the mean tuition fee for each state in 2020\n",
    "# mean_tuition_fee represents the average tuition fee for each state in 2020\n",
    "tuition <- tuition |>\n",
    "    group_by(State) |>\n",
    "    summarize(mean_tuition_fee = mean(Value))\n",
    "\n",
    "\n",
    "# adds the third column of political leaning\n",
    "# note that we are using the party affiliation of each state in the 2020 presidential election \n",
    "# to represent their political leanings \n",
    "# deom stands for democrat; repub stands for republican\n",
    "tuition <- tuition |>\n",
    "    # mutate(plitical_leaning = ifelse(grepl(\"Arizona|California\", State), \"demo\", \"rep\"))\n",
    "    mutate(political_leaning = ifelse(grepl(\"Arizona|California|Colorado|Connecticut|Delaware|Georgia|Hawaii\n",
    "                                                |Illinois|Maine|Maryland|Massachusetts|Michigan|Minnesota\n",
    "                                                |Nevada|New Hampshire|New Jersey|New Mexico|New York|Oregon\n",
    "                                                |Pennsylvania|Rhode Island|Vermont|Virginia|Washington|Wisconsin\", State), \n",
    "                                            \"demo\", \"repub\"))\n",
    "\n",
    "head(tuition)\n",
    "nrow(tuition |> filter(political_leaning == \"demo\"))\n",
    "nrow(tuition |> filter(political_leaning == \"repub\"))"
   ]
  }
 ],
 "metadata": {
  "kernelspec": {
   "display_name": "R",
   "language": "R",
   "name": "ir"
  },
  "language_info": {
   "codemirror_mode": "r",
   "file_extension": ".r",
   "mimetype": "text/x-r-source",
   "name": "R",
   "pygments_lexer": "r",
   "version": "4.1.3"
  }
 },
 "nbformat": 4,
 "nbformat_minor": 5
}
