{
 "cells": [
  {
   "cell_type": "markdown",
   "id": "faf8750a-851d-4eb3-9282-198829610785",
   "metadata": {},
   "source": [
    "## Project Name:\n",
    "\n",
    "**Group 15: Alice Le, Jitao Zhang, Lincoln Lee, Yitong Gong**"
   ]
  },
  {
   "cell_type": "code",
   "execution_count": 7,
   "id": "ce99cac4-a63d-45ee-930a-3899d9efe94c",
   "metadata": {},
   "outputs": [],
   "source": [
    "# All needed libraries:\n",
    "library(tidyverse)\n",
    "library(broom)\n",
    "library(repr)\n",
    "library(digest)\n",
    "library(infer)\n",
    "library(gridExtra)\n",
    "\n",
    "# General Graphs' setting:\n",
    "options(repr.plot.width = 10, repr.plot.height = 6)"
   ]
  },
  {
   "cell_type": "markdown",
   "id": "c291822c-800d-499e-9328-09c90a53db2a",
   "metadata": {},
   "source": [
    "#### __Preliminary Results__"
   ]
  },
  {
   "cell_type": "code",
   "execution_count": 5,
   "id": "b81f757a-e77b-456c-9da5-ccd7d0cee219",
   "metadata": {},
   "outputs": [
    {
     "name": "stderr",
     "output_type": "stream",
     "text": [
      "\u001b[1mRows: \u001b[22m\u001b[34m3548\u001b[39m \u001b[1mColumns: \u001b[22m\u001b[34m6\u001b[39m\n",
      "\u001b[36m──\u001b[39m \u001b[1mColumn specification\u001b[22m \u001b[36m────────────────────────────────────────────────────────\u001b[39m\n",
      "\u001b[1mDelimiter:\u001b[22m \",\"\n",
      "\u001b[31mchr\u001b[39m (4): State, Type, Length, Expense\n",
      "\u001b[32mdbl\u001b[39m (2): Year, Value\n",
      "\n",
      "\u001b[36mℹ\u001b[39m Use `spec()` to retrieve the full column specification for this data.\n",
      "\u001b[36mℹ\u001b[39m Specify the column types or set `show_col_types = FALSE` to quiet this message.\n"
     ]
    },
    {
     "data": {
      "text/html": [
       "<table class=\"dataframe\">\n",
       "<caption>A tibble: 6 × 6</caption>\n",
       "<thead>\n",
       "\t<tr><th scope=col>Year</th><th scope=col>State</th><th scope=col>Type</th><th scope=col>Length</th><th scope=col>Expense</th><th scope=col>Value</th></tr>\n",
       "\t<tr><th scope=col>&lt;dbl&gt;</th><th scope=col>&lt;chr&gt;</th><th scope=col>&lt;chr&gt;</th><th scope=col>&lt;chr&gt;</th><th scope=col>&lt;chr&gt;</th><th scope=col>&lt;dbl&gt;</th></tr>\n",
       "</thead>\n",
       "<tbody>\n",
       "\t<tr><td>2013</td><td>Alabama</td><td>Private            </td><td>4-year</td><td>Fees/Tuition</td><td>13983</td></tr>\n",
       "\t<tr><td>2013</td><td>Alabama</td><td>Private            </td><td>4-year</td><td>Room/Board  </td><td> 8503</td></tr>\n",
       "\t<tr><td>2013</td><td>Alabama</td><td>Public In-State    </td><td>2-year</td><td>Fees/Tuition</td><td> 4048</td></tr>\n",
       "\t<tr><td>2013</td><td>Alabama</td><td>Public In-State    </td><td>4-year</td><td>Fees/Tuition</td><td> 8073</td></tr>\n",
       "\t<tr><td>2013</td><td>Alabama</td><td>Public In-State    </td><td>4-year</td><td>Room/Board  </td><td> 8473</td></tr>\n",
       "\t<tr><td>2013</td><td>Alabama</td><td>Public Out-of-State</td><td>2-year</td><td>Fees/Tuition</td><td> 7736</td></tr>\n",
       "</tbody>\n",
       "</table>\n"
      ],
      "text/latex": [
       "A tibble: 6 × 6\n",
       "\\begin{tabular}{llllll}\n",
       " Year & State & Type & Length & Expense & Value\\\\\n",
       " <dbl> & <chr> & <chr> & <chr> & <chr> & <dbl>\\\\\n",
       "\\hline\n",
       "\t 2013 & Alabama & Private             & 4-year & Fees/Tuition & 13983\\\\\n",
       "\t 2013 & Alabama & Private             & 4-year & Room/Board   &  8503\\\\\n",
       "\t 2013 & Alabama & Public In-State     & 2-year & Fees/Tuition &  4048\\\\\n",
       "\t 2013 & Alabama & Public In-State     & 4-year & Fees/Tuition &  8073\\\\\n",
       "\t 2013 & Alabama & Public In-State     & 4-year & Room/Board   &  8473\\\\\n",
       "\t 2013 & Alabama & Public Out-of-State & 2-year & Fees/Tuition &  7736\\\\\n",
       "\\end{tabular}\n"
      ],
      "text/markdown": [
       "\n",
       "A tibble: 6 × 6\n",
       "\n",
       "| Year &lt;dbl&gt; | State &lt;chr&gt; | Type &lt;chr&gt; | Length &lt;chr&gt; | Expense &lt;chr&gt; | Value &lt;dbl&gt; |\n",
       "|---|---|---|---|---|---|\n",
       "| 2013 | Alabama | Private             | 4-year | Fees/Tuition | 13983 |\n",
       "| 2013 | Alabama | Private             | 4-year | Room/Board   |  8503 |\n",
       "| 2013 | Alabama | Public In-State     | 2-year | Fees/Tuition |  4048 |\n",
       "| 2013 | Alabama | Public In-State     | 4-year | Fees/Tuition |  8073 |\n",
       "| 2013 | Alabama | Public In-State     | 4-year | Room/Board   |  8473 |\n",
       "| 2013 | Alabama | Public Out-of-State | 2-year | Fees/Tuition |  7736 |\n",
       "\n"
      ],
      "text/plain": [
       "  Year State   Type                Length Expense      Value\n",
       "1 2013 Alabama Private             4-year Fees/Tuition 13983\n",
       "2 2013 Alabama Private             4-year Room/Board    8503\n",
       "3 2013 Alabama Public In-State     2-year Fees/Tuition  4048\n",
       "4 2013 Alabama Public In-State     4-year Fees/Tuition  8073\n",
       "5 2013 Alabama Public In-State     4-year Room/Board    8473\n",
       "6 2013 Alabama Public Out-of-State 2-year Fees/Tuition  7736"
      ]
     },
     "metadata": {},
     "output_type": "display_data"
    }
   ],
   "source": [
    "original_dataset <- read_csv(\"data/nces330_20.csv\")\n",
    "head(original_dataset)"
   ]
  }
 ],
 "metadata": {
  "kernelspec": {
   "display_name": "R",
   "language": "R",
   "name": "ir"
  },
  "language_info": {
   "codemirror_mode": "r",
   "file_extension": ".r",
   "mimetype": "text/x-r-source",
   "name": "R",
   "pygments_lexer": "r",
   "version": "4.1.3"
  }
 },
 "nbformat": 4,
 "nbformat_minor": 5
}
