{
 "cells": [
  {
   "cell_type": "markdown",
   "id": "f622707a-9359-4e92-a331-c3d42aa884e8",
   "metadata": {},
   "source": [
    "try to write something"
   ]
  }
 ],
 "metadata": {
  "kernelspec": {
   "display_name": "R",
   "language": "R",
   "name": "ir"
  },
  "language_info": {
   "codemirror_mode": "r",
   "file_extension": ".r",
   "mimetype": "text/x-r-source",
   "name": "R",
   "pygments_lexer": "r",
   "version": "4.1.3"
  }
 },
 "nbformat": 4,
 "nbformat_minor": 5
}
